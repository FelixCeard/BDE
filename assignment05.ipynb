{
 "cells": [
  {
   "cell_type": "markdown",
   "id": "deabc56c",
   "metadata": {},
   "source": [
    "# Recursive Inverted Index (5 Points)\n",
    "\n",
    "Copyright [Big Data Analytics Group](https://bigdata.uni-saarland.de/), [CC-BY-SA](https://creativecommons.org/licenses/by-sa/4.0/legalcode)"
   ]
  },
  {
   "cell_type": "markdown",
   "id": "ce067d49",
   "metadata": {},
   "source": [
    "In this exercise, you will implement an [inverted index](https://en.wikipedia.org/wiki/Inverted_index). An inverted index is a mapping from the content (e.g. words) of\n",
    "a document to the document itself. In addition, in this exercise we radix-partition the words, i.e. we _recursively_ partition the words characterwise similar to the notebook [Indexing by Recursive External Partitioning.ipynb](https://github.com/BigDataAnalyticsGroup/bigdataengineering/blob/master/Indexing%20by%20Recursive%20External%20Partitioning.ipynb). This structure allows us to easily search for documents that contain a word that exactly matches a given search word, but also words that start with the given search word (prefix search). Implement the following functions of the class `RecursiveInvertedIndex` in the attached notebook:\n",
    "* `__init__`: This is the constructor of the class, which takes a list of documents names and creates the\n",
    "    recursive, inverted index based on these documents. Your words must be radix-partitioned. You can use the helper\n",
    "        function`get_words_from_document(document_name)`, which takes a document name as input and then\n",
    "        returns a set of words contained in the document. Note, that all words are converted to lowercase.\n",
    "* `search(word)`: This function uses the inverted index to return a list of all matching documents given the key `word`. Matching here means that the search word either exactly matches one of the words in a document, or at least one of the words in a document starts with the search word. If no documents exist for a search word, an empty set is returned. Otherwise, the set of all matching documents is returned. Your implementation should be case-insensitive.\n",
    "\n",
    "Your implementation must pass all provided unit tests without hardcoding!"
   ]
  },
  {
   "cell_type": "code",
   "execution_count": 19,
   "id": "4eff7171",
   "metadata": {
    "ExecuteTime": {
     "end_time": "2023-05-30T20:55:39.581946900Z",
     "start_time": "2023-05-30T20:55:39.550948600Z"
    }
   },
   "outputs": [],
   "source": [
    "def get_words_from_document(document_name):\n",
    "    with open(document_name) as f:\n",
    "        text = f.read().replace('.', '')\n",
    "        word_list = text.split(\" \")\n",
    "        words = set([word.lower() for word in word_list])\n",
    "        return words"
   ]
  },
  {
   "cell_type": "code",
   "execution_count": 84,
   "id": "d4a46071",
   "metadata": {
    "ExecuteTime": {
     "end_time": "2023-05-30T21:11:31.333742900Z",
     "start_time": "2023-05-30T21:11:31.316747100Z"
    }
   },
   "outputs": [],
   "source": [
    "# Upload the contents of this cell to our CMS as a text file\n",
    "\n",
    "class Structure:\n",
    "    def __init__(self):\n",
    "        self.indices = set()\n",
    "        self.children = {}\n",
    "\n",
    "    def update(self, string, index):\n",
    "        # print('Adding', string)\n",
    "        self.indices.add(index)\n",
    "        if len(string) == 0:\n",
    "            return len(self.indices)\n",
    "\n",
    "        # expand children\n",
    "        if self.children.get('a') is None:\n",
    "            for i in range(26):\n",
    "                self.children[chr(97+i)] = Structure()\n",
    "\n",
    "\n",
    "        return self.children[string[0]].update(string[1:], index)\n",
    "\n",
    "    def start_search(self, string):\n",
    "        if string == '':\n",
    "            return set()\n",
    "        return self.search(string)\n",
    "\n",
    "    def search(self, string):\n",
    "        if len(string) == 0:\n",
    "            return self.indices\n",
    "\n",
    "        if len(self.children) == 0:\n",
    "            return set()\n",
    "\n",
    "        if self.children.get(string[0]) is None:\n",
    "            return set()\n",
    "\n",
    "        return self.children[string[0]].search(string[1:])\n",
    "\n",
    "    def __str__(self):\n",
    "        return f\"{{indices: {self.indices}, {self.children}}}\"\n",
    "\n",
    "\n",
    "\n",
    "# A class implementing a recursive, inverted index\n",
    "class RecursiveInvertedIndex:\n",
    "    # document_names: Names of the documents to be put in the index\n",
    "    def __init__(self, document_names):\n",
    "        # Add your code here!\n",
    "        # ...\n",
    "        # You should initialise your recursive, inverted index here. Note that your words must be radix-partitioned.\n",
    "\n",
    "        self.document_names = document_names\n",
    "        self.data = Structure()\n",
    "        self.init_structure()\n",
    "\n",
    "    def init_structure(self):\n",
    "        # create data structure\n",
    "        for i, name in enumerate(self.document_names):\n",
    "            for word in get_words_from_document(name):\n",
    "                self.data.update(word, name)\n",
    "\n",
    "    def search(self, word): \n",
    "        # Add your code here!\n",
    "        # ...\n",
    "        # This function should return the set of all matching documents. A matching document either contains exactly the search word or\n",
    "        # a word that starts with the given search word (or both).\n",
    "        return self.data.start_search(word.lower())"
   ]
  },
  {
   "cell_type": "code",
   "execution_count": 85,
   "outputs": [],
   "source": [
    "documents = [\"data/indexes/test_file_1.txt\", \"data/indexes/test_file_2.txt\", \"data/indexes/test_file_3.txt\"]\n",
    "rec_inverted_index = RecursiveInvertedIndex(documents)"
   ],
   "metadata": {
    "collapsed": false,
    "ExecuteTime": {
     "end_time": "2023-05-30T21:11:31.540980800Z",
     "start_time": "2023-05-30T21:11:31.512679500Z"
    }
   }
  },
  {
   "cell_type": "code",
   "execution_count": 86,
   "outputs": [
    {
     "data": {
      "text/plain": "{'data/indexes/test_file_1.txt',\n 'data/indexes/test_file_2.txt',\n 'data/indexes/test_file_3.txt'}"
     },
     "execution_count": 86,
     "metadata": {},
     "output_type": "execute_result"
    }
   ],
   "source": [
    "search_result = rec_inverted_index.search(\"I\")\n",
    "# (\"data/indexes/test_file_1.txt\" in search_result and \"data/indexes/test_file_3.txt\" in search_result)\n",
    "search_result\n"
   ],
   "metadata": {
    "collapsed": false,
    "ExecuteTime": {
     "end_time": "2023-05-30T21:11:31.729985Z",
     "start_time": "2023-05-30T21:11:31.698987800Z"
    }
   }
  },
  {
   "cell_type": "markdown",
   "id": "bf73f6c2",
   "metadata": {},
   "source": [
    "### Unit tests\n",
    "\n",
    "Note that test cases are by no means exhaustive!"
   ]
  },
  {
   "cell_type": "code",
   "execution_count": 87,
   "id": "5ffdcc43",
   "metadata": {
    "ExecuteTime": {
     "end_time": "2023-05-30T21:11:32.592030900Z",
     "start_time": "2023-05-30T21:11:32.579034Z"
    }
   },
   "outputs": [],
   "source": [
    "import unittest\n",
    "\n",
    "class RecursiveInvertedIndexTest(unittest.TestCase):\n",
    "    \n",
    "    def setUp(self):\n",
    "        self.documents = [\"data/indexes/test_file_1.txt\", \"data/indexes/test_file_2.txt\", \"data/indexes/test_file_3.txt\"]\n",
    "        self.rec_inverted_index = RecursiveInvertedIndex(self.documents)\n",
    "\n",
    "    def test_no_result(self):\n",
    "        search_result = self.rec_inverted_index.search(\"Im\")\n",
    "        self.assertEqual(len(search_result), 0)\n",
    "        search_result = self.rec_inverted_index.search(\"BDER\")\n",
    "        self.assertEqual(len(search_result), 0)\n",
    "        search_result = self.rec_inverted_index.search(\"lotin\")\n",
    "        self.assertEqual(len(search_result), 0)\n",
    "        search_result = self.rec_inverted_index.search(\"\")\n",
    "        self.assertEqual(len(search_result), 0)\n",
    "        search_result = self.rec_inverted_index.search(\" \")\n",
    "        self.assertEqual(len(search_result), 0)\n",
    "        search_result = self.rec_inverted_index.search(\"ar\")\n",
    "        self.assertEqual(len(search_result), 0)\n",
    "    \n",
    "    def test_with_result(self):\n",
    "        search_result = self.rec_inverted_index.search(\"bde\")\n",
    "        self.assertEqual(len(search_result), 2)\n",
    "        self.assertTrue(\"data/indexes/test_file_1.txt\" in search_result and \"data/indexes/test_file_3.txt\" in search_result)\n",
    "        search_result = self.rec_inverted_index.search(\"DBS\")\n",
    "        self.assertEqual(len(search_result), 2)\n",
    "        self.assertTrue(\"data/indexes/test_file_2.txt\" in search_result and \"data/indexes/test_file_3.txt\" in search_result)\n",
    "        search_result = self.rec_inverted_index.search(\"I\")\n",
    "        self.assertEqual(len(search_result), 3)\n",
    "        for document in self.documents:\n",
    "            self.assertTrue(document in search_result)\n",
    "        search_result = self.rec_inverted_index.search(\"course\")\n",
    "        self.assertEqual(len(search_result), 2)\n",
    "        self.assertTrue(\"data/indexes/test_file_1.txt\" in search_result and \"data/indexes/test_file_2.txt\" in search_result)\n",
    "        search_result = self.rec_inverted_index.search(\"o\")\n",
    "        self.assertEqual(len(search_result), 1)\n",
    "        self.assertTrue(\"data/indexes/test_file_3.txt\" in search_result)"
   ]
  },
  {
   "cell_type": "code",
   "execution_count": 88,
   "id": "f9e1cbed",
   "metadata": {
    "ExecuteTime": {
     "end_time": "2023-05-30T21:11:33.134539300Z",
     "start_time": "2023-05-30T21:11:33.072500800Z"
    }
   },
   "outputs": [
    {
     "name": "stderr",
     "output_type": "stream",
     "text": [
      "test_no_result (__main__.RecursiveInvertedIndexTest) ... ok\n",
      "test_with_result (__main__.RecursiveInvertedIndexTest) ... ok\n",
      "\n",
      "----------------------------------------------------------------------\n",
      "Ran 2 tests in 0.007s\n",
      "\n",
      "OK\n"
     ]
    },
    {
     "data": {
      "text/plain": "<unittest.main.TestProgram at 0x1c95ec66790>"
     },
     "execution_count": 88,
     "metadata": {},
     "output_type": "execute_result"
    }
   ],
   "source": [
    "# Run the unit test without shutting down the jupyter kernel\n",
    "unittest.main(argv=['ignored', '-v'], verbosity=2, exit=False)"
   ]
  },
  {
   "cell_type": "code",
   "execution_count": 62,
   "outputs": [],
   "source": [],
   "metadata": {
    "collapsed": false,
    "ExecuteTime": {
     "end_time": "2023-05-30T21:05:06.582948700Z",
     "start_time": "2023-05-30T21:05:06.537950200Z"
    }
   }
  },
  {
   "cell_type": "code",
   "execution_count": null,
   "outputs": [],
   "source": [],
   "metadata": {
    "collapsed": false
   }
  }
 ],
 "metadata": {
  "kernelspec": {
   "display_name": "Python 3 (ipykernel)",
   "language": "python",
   "name": "python3"
  },
  "language_info": {
   "codemirror_mode": {
    "name": "ipython",
    "version": 3
   },
   "file_extension": ".py",
   "mimetype": "text/x-python",
   "name": "python",
   "nbconvert_exporter": "python",
   "pygments_lexer": "ipython3",
   "version": "3.10.11"
  },
  "varInspector": {
   "cols": {
    "lenName": 16,
    "lenType": 16,
    "lenVar": 40
   },
   "kernels_config": {
    "python": {
     "delete_cmd_postfix": "",
     "delete_cmd_prefix": "del ",
     "library": "var_list.py",
     "varRefreshCmd": "print(var_dic_list())"
    },
    "r": {
     "delete_cmd_postfix": ") ",
     "delete_cmd_prefix": "rm(",
     "library": "var_list.r",
     "varRefreshCmd": "cat(var_dic_list()) "
    }
   },
   "types_to_exclude": [
    "module",
    "function",
    "builtin_function_or_method",
    "instance",
    "_Feature"
   ],
   "window_display": false
  }
 },
 "nbformat": 4,
 "nbformat_minor": 5
}

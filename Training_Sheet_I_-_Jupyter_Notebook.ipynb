{
 "cells": [
  {
   "cell_type": "markdown",
   "id": "6c5d05e7",
   "metadata": {
    "hideCode": false,
    "hidePrompt": false
   },
   "source": [
    "# Exercise TI.1"
   ]
  },
  {
   "cell_type": "markdown",
   "id": "f0a94dfc",
   "metadata": {
    "hideCode": false,
    "hidePrompt": false
   },
   "source": [
    "**Exercise TI.1** *(Law of Large Numbers — Coins)*\n",
    "\n",
    "In subtask (a) we have seen how we can approximate the parameter $p$ of our coin flip experiment. In subtask (b) we computed two bounds on the expected number of tosses needed to approximate the true value of $p$ within an error margin of $0.1$ correctly $90\\%$ of the time."
   ]
  },
  {
   "cell_type": "markdown",
   "id": "63450921",
   "metadata": {},
   "source": [
    "(c) (i) implement a function that generates random variates $Z_n$ for set parameters $p$ and $n$"
   ]
  },
  {
   "cell_type": "code",
   "execution_count": 14,
   "id": "bd5ec11d",
   "metadata": {
    "hideCode": false,
    "hidePrompt": false,
    "ExecuteTime": {
     "end_time": "2023-06-21T10:58:43.242249900Z",
     "start_time": "2023-06-21T10:58:43.215218Z"
    }
   },
   "outputs": [],
   "source": [
    "from numpy.random import random as uniform\n",
    "\n",
    "# n will be either 25, 50, 75, ..., 250\n",
    "# p will be a value in [0, 1]\n",
    "def generate_Zn(n: int, p: float) -> float:\n",
    "    # Your code goes here\n",
    "\n",
    "    X_i = uniform(n)\n",
    "\n",
    "    X_i[X_i < p] = 1\n",
    "    X_i[X_i != 1] = 0\n",
    "    return sum(X_i)/n"
   ]
  },
  {
   "cell_type": "markdown",
   "id": "fe077f3b",
   "metadata": {},
   "source": [
    "(c) (ii) given $n$, generate 5000 variates of $Z_n$ to compute $P(\\vert Z_n - p\\vert < 0.1)$"
   ]
  },
  {
   "cell_type": "code",
   "execution_count": 33,
   "id": "03a6389e",
   "metadata": {
    "ExecuteTime": {
     "end_time": "2023-06-21T11:00:38.199937600Z",
     "start_time": "2023-06-21T11:00:38.172906300Z"
    }
   },
   "outputs": [],
   "source": [
    "# For this simulation, assume\n",
    "p = 0.6\n",
    "\n",
    "# n will be either 25, 50, 75, ..., 250\n",
    "def approx_P_5000(n: int) -> float:\n",
    "    # Your code goes here\n",
    "    is_smaller = 0\n",
    "    for i in range(5000):\n",
    "        if abs(generate_Zn(n, p) - p) < 0.1:\n",
    "            is_smaller += 1\n",
    "    return is_smaller/5000\n"
   ]
  },
  {
   "cell_type": "markdown",
   "id": "06796e61",
   "metadata": {},
   "source": [
    "In (b) (i) we obtained the bound\n",
    "\n",
    "$$\n",
    "\\begin{align*}\n",
    "  0.9 &\\leq P(\\vert Z_n - p \\vert \\leq 0.1) \\\\\n",
    "  &= \\text{?}\n",
    "\\end{align*}\n",
    "$$"
   ]
  },
  {
   "cell_type": "code",
   "execution_count": 49,
   "id": "641c0618",
   "metadata": {
    "ExecuteTime": {
     "end_time": "2023-06-21T11:02:30.643850600Z",
     "start_time": "2023-06-21T11:02:30.627806200Z"
    }
   },
   "outputs": [],
   "source": [
    "def approx_chebyshev(n: int) -> float:\n",
    "    return 1-1/(4*n*0.1**2)\n"
   ]
  },
  {
   "cell_type": "markdown",
   "id": "9d9fd2a5",
   "metadata": {},
   "source": [
    "In (b) (i) we obtained the bound\n",
    "\n",
    "$$\n",
    "\\begin{align*}\n",
    "  0.9 &\\leq P(\\vert Z_n - p \\vert \\leq 0.1) \\\\\n",
    "  &= \\text{?}\n",
    "\\end{align*}\n",
    "$$"
   ]
  },
  {
   "cell_type": "code",
   "execution_count": 60,
   "id": "d5f1f60a",
   "metadata": {
    "ExecuteTime": {
     "end_time": "2023-06-21T11:11:25.605633500Z",
     "start_time": "2023-06-21T11:11:25.183883800Z"
    }
   },
   "outputs": [],
   "source": [
    "from scipy.stats import norm # CDF of the standard normal distribution\n",
    "\n",
    "def approx_central_limit(n: int) -> float:\n",
    "    # Your code goes here\n",
    "    return norm.cdf(np.sqrt(n)*(0.1/np.sqrt(p*(1-p)))) #>= 0.95\n",
    "    # return 0.0"
   ]
  },
  {
   "cell_type": "code",
   "execution_count": 65,
   "id": "1fe76b23",
   "metadata": {
    "ExecuteTime": {
     "end_time": "2023-06-21T11:13:01.266726600Z",
     "start_time": "2023-06-21T11:12:59.421533100Z"
    }
   },
   "outputs": [
    {
     "data": {
      "text/plain": "<Figure size 432x288 with 1 Axes>",
      "image/png": "[encoded data removed]"
     },
     "metadata": {
      "needs_background": "light"
     },
     "output_type": "display_data"
    }
   ],
   "source": [
    "import matplotlib.pyplot as plt\n",
    "import numpy as np\n",
    "\n",
    "def draw_plot():\n",
    "    # use the plt.plot() to depict your experiment\n",
    "    # See: https://matplotlib.org/stable/api/_as_gen/matplotlib.pyplot.plot.html\n",
    "\n",
    "    p5000 = []\n",
    "    X = list(range(25, 350, 25))\n",
    "    chebyshev = []\n",
    "    limit = []\n",
    "    for n in range(25, 350, 25):\n",
    "        p5000.append(approx_P_5000(n))\n",
    "        chebyshev.append(approx_chebyshev(n))\n",
    "        limit.append(approx_central_limit(n))\n",
    "    plt.plot(p5000, label='p5000')\n",
    "\n",
    "    # chebyshev lower bound\n",
    "    plt.plot(chebyshev, label='chebyshev lower bound')\n",
    "    plt.plot(limit, label='central limit upper bound')\n",
    "\n",
    "    plt.legend()\n",
    "    # plt.show()\n",
    "    plt.savefig('plot.png', dpi=300)\n",
    "\n",
    "draw_plot()"
   ]
  },
  {
   "cell_type": "markdown",
   "id": "d1b1d82e",
   "metadata": {},
   "source": [
    "# Exercise TI.3"
   ]
  },
  {
   "cell_type": "markdown",
   "id": "1070f701",
   "metadata": {},
   "source": [
    "**Exercise TI.3** *(Monte-Carlo Simulation)*\n",
    "\n",
    "We consider the function\n",
    "\n",
    "$$\n",
    "f(x) = k\\cdot{} e^{-x^3 + 1.5 x^2}\n",
    "$$\n",
    "\n",
    "for $x \\in [0, 3]$. Implement the function `compute_k` that computes the value $k$ for which $f$ is a PDF.\n",
    "Then, implement `compute_expectation`, which computes the expected value of $f$ with the correct parameter $k$."
   ]
  },
  {
   "cell_type": "code",
   "execution_count": 66,
   "id": "331d18e3",
   "metadata": {
    "ExecuteTime": {
     "end_time": "2023-06-21T11:13:40.265859700Z",
     "start_time": "2023-06-21T11:13:40.247860500Z"
    }
   },
   "outputs": [],
   "source": [
    "from numpy import exp\n",
    "\n",
    "\"\"\"\n",
    "    f(k) returns the function f with parameter k.\n",
    "        e.g. f(2)(0) evaluates f with k=2 at x=0, resulting in 2.\n",
    "\"\"\"\n",
    "def f(k):\n",
    "    # You don't need to modify this function\n",
    "    def f_k(x):\n",
    "        return k * exp(-x**3 + 1.5 * x**2)\n",
    "    return f_k"
   ]
  },
  {
   "cell_type": "code",
   "execution_count": 74,
   "id": "32f2199b",
   "metadata": {},
   "outputs": [
    {
     "data": {
      "text/plain": "<Figure size 432x288 with 1 Axes>",
      "image/png": "[encoded data removed]"
     },
     "metadata": {
      "needs_background": "light"
     },
     "output_type": "display_data"
    },
    {
     "name": "stdout",
     "output_type": "stream",
     "text": [
      "best k: 1\n",
      "closest: 0.23819355254363495\n"
     ]
    },
    {
     "data": {
      "text/plain": "0.0"
     },
     "execution_count": 73,
     "metadata": {},
     "output_type": "execute_result"
    },
    {
     "name": "stdout",
     "output_type": "stream",
     "text": [
      "0.0 0.0\n",
      "0.020202020202020204 0.01539002924154253\n",
      "0.04040404040404041 0.03078005848308506\n",
      "0.06060606060606061 0.04617008772463092\n",
      "0.08080808080808081 0.06156011696617012\n",
      "0.10101010101010102 0.07695014620771566\n",
      "0.12121212121212122 0.09234017544926185\n",
      "0.14141414141414144 0.10773020469078591\n",
      "0.16161616161616163 0.12312023393234024\n",
      "0.18181818181818182 0.13851026317388568\n",
      "0.20202020202020204 0.15390029241543132\n",
      "0.22222222222222224 0.16929032165696487\n",
      "0.24242424242424243 0.1846803508985237\n",
      "0.26262626262626265 0.20007038014005799\n",
      "0.2828282828282829 0.21546040938157182\n",
      "0.30303030303030304 0.23085043862313087\n",
      "0.32323232323232326 0.24624046786468048\n",
      "0.3434343434343435 0.2616304971062255\n",
      "0.36363636363636365 0.27702052634777136\n",
      "0.38383838383838387 0.292410555589308\n",
      "0.4040404040404041 0.30780058483086264\n",
      "0.42424242424242425 0.32319061407240895\n",
      "0.4444444444444445 0.33858064331392973\n",
      "0.4646464646464647 0.3539706725554776\n",
      "0.48484848484848486 0.3693607017970474\n",
      "0.5050505050505051 0.38475073103858065\n",
      "0.5252525252525253 0.40014076028011597\n",
      "0.5454545454545455 0.41553078952164424\n",
      "0.5656565656565657 0.43092081876314364\n",
      "0.5858585858585859 0.44631084800474174\n",
      "0.6060606060606061 0.46170087724626174\n",
      "0.6262626262626263 0.477090906487809\n",
      "0.6464646464646465 0.49248093572936097\n",
      "0.6666666666666667 0.5078709649709103\n",
      "0.686868686868687 0.523260994212451\n",
      "0.7070707070707072 0.5386510234539866\n",
      "0.7272727272727273 0.5540410526955427\n",
      "0.7474747474747475 0.5694310819370569\n",
      "0.7676767676767677 0.584821111178616\n",
      "0.787878787878788 0.60021114042016\n",
      "0.8080808080808082 0.6156011696617253\n",
      "0.8282828282828284 0.6309911989032689\n",
      "0.8484848484848485 0.6463812281448179\n",
      "0.8686868686868687 0.6617712573863263\n",
      "0.888888888888889 0.6771612866278595\n",
      "0.9090909090909092 0.6925513158694254\n",
      "0.9292929292929294 0.7079413451109552\n",
      "0.9494949494949496 0.7233313743524818\n",
      "0.9696969696969697 0.7387214035940948\n",
      "0.98989898989899 0.7541114328355816\n",
      "1.0101010101010102 0.7695014620771613\n",
      "1.0303030303030305 0.7848914913186543\n",
      "1.0505050505050506 0.8002815205602319\n",
      "1.0707070707070707 0.8156715498017364\n",
      "1.090909090909091 0.8310615790432885\n",
      "1.1111111111111112 0.8464516082848753\n",
      "1.1313131313131315 0.8618416375262873\n",
      "1.1515151515151516 0.8772316667679033\n",
      "1.1717171717171717 0.8926216960094835\n",
      "1.191919191919192 0.9080117252509963\n",
      "1.2121212121212122 0.9234017544925235\n",
      "1.2323232323232325 0.9387917837340694\n",
      "1.2525252525252526 0.954181812975618\n",
      "1.272727272727273 0.969571842217235\n",
      "1.292929292929293 0.9849618714587219\n",
      "1.3131313131313131 1.0003519007003077\n",
      "1.3333333333333335 1.0157419299418207\n",
      "1.3535353535353536 1.031131959183362\n",
      "1.373737373737374 1.046521988424902\n",
      "1.393939393939394 1.0619120176664283\n",
      "1.4141414141414144 1.0773020469079733\n",
      "1.4343434343434345 1.0926920761494974\n",
      "1.4545454545454546 1.1080821053910854\n",
      "1.474747474747475 1.1234721346327208\n",
      "1.494949494949495 1.1388621638741139\n",
      "1.5151515151515154 1.1542521931156984\n",
      "1.5353535353535355 1.169642222357232\n",
      "1.5555555555555556 1.1850322515987142\n",
      "1.575757575757576 1.20042228084032\n",
      "1.595959595959596 1.2158123100818465\n",
      "1.6161616161616164 1.2312023393234506\n",
      "1.6363636363636365 1.2465923685649434\n",
      "1.6565656565656568 1.2619823978065379\n",
      "1.676767676767677 1.2773724270480769\n",
      "1.696969696969697 1.2927624562896358\n",
      "1.7171717171717173 1.3081524855311548\n",
      "1.7373737373737375 1.3235425147726525\n",
      "1.7575757575757578 1.338932544014227\n",
      "1.777777777777778 1.354322573255719\n",
      "1.7979797979797982 1.3697126024972566\n",
      "1.8181818181818183 1.3851026317388508\n",
      "1.8383838383838385 1.400492660980307\n",
      "1.8585858585858588 1.4158826902219104\n",
      "1.878787878787879 1.4312727194634887\n",
      "1.8989898989898992 1.4466627487049637\n",
      "1.9191919191919193 1.462052777946485\n",
      "1.9393939393939394 1.4774428071881895\n",
      "1.9595959595959598 1.492832836429644\n",
      "1.97979797979798 1.5082228656711631\n",
      "2.0 1.52361289491273\n",
      "best k: 1.3131313131313131\n",
      "closest: 0.0003519007003076613\n"
     ]
    },
    {
     "data": {
      "text/plain": "0.0"
     },
     "execution_count": 74,
     "metadata": {},
     "output_type": "execute_result"
    }
   ],
   "source": [
    "N = 10**6\n",
    "\n",
    "def compute_k():\n",
    "    best_k = None\n",
    "    closest = 99999999999999999\n",
    "    for k in np.linspace(0, 2, 100):\n",
    "        x = np.linspace(0, 3, N)\n",
    "        y = f(k)(x)\n",
    "        # y /= N\n",
    "        total = sum(y)\n",
    "        total /= N\n",
    "        print(k, total)\n",
    "        if abs(total - 1) < closest:\n",
    "            closest = abs(total - 1)\n",
    "            best_k = k\n",
    "        # plt.plot(x, y, label='k={}'.format(k))\n",
    "\n",
    "    # plt.legend()\n",
    "    # plt.show()\n",
    "    print('best k: {}'.format(best_k))\n",
    "    print('closest: {}'.format(closest))\n",
    "    return best_k"
   ]
  },
  {
   "cell_type": "code",
   "execution_count": 76,
   "outputs": [
    {
     "name": "stdout",
     "output_type": "stream",
     "text": [
      "0.0 0.0\n",
      "0.020202020202020204 0.01539002924154253\n",
      "0.04040404040404041 0.03078005848308506\n",
      "0.06060606060606061 0.04617008772463092\n",
      "0.08080808080808081 0.06156011696617012\n",
      "0.10101010101010102 0.07695014620771566\n",
      "0.12121212121212122 0.09234017544926185\n",
      "0.14141414141414144 0.10773020469078591\n",
      "0.16161616161616163 0.12312023393234024\n",
      "0.18181818181818182 0.13851026317388568\n",
      "0.20202020202020204 0.15390029241543132\n",
      "0.22222222222222224 0.16929032165696487\n",
      "0.24242424242424243 0.1846803508985237\n",
      "0.26262626262626265 0.20007038014005799\n",
      "0.2828282828282829 0.21546040938157182\n",
      "0.30303030303030304 0.23085043862313087\n",
      "0.32323232323232326 0.24624046786468048\n",
      "0.3434343434343435 0.2616304971062255\n",
      "0.36363636363636365 0.27702052634777136\n",
      "0.38383838383838387 0.292410555589308\n",
      "0.4040404040404041 0.30780058483086264\n",
      "0.42424242424242425 0.32319061407240895\n",
      "0.4444444444444445 0.33858064331392973\n",
      "0.4646464646464647 0.3539706725554776\n",
      "0.48484848484848486 0.3693607017970474\n",
      "0.5050505050505051 0.38475073103858065\n",
      "0.5252525252525253 0.40014076028011597\n",
      "0.5454545454545455 0.41553078952164424\n",
      "0.5656565656565657 0.43092081876314364\n",
      "0.5858585858585859 0.44631084800474174\n",
      "0.6060606060606061 0.46170087724626174\n",
      "0.6262626262626263 0.477090906487809\n",
      "0.6464646464646465 0.49248093572936097\n",
      "0.6666666666666667 0.5078709649709103\n",
      "0.686868686868687 0.523260994212451\n",
      "0.7070707070707072 0.5386510234539866\n",
      "0.7272727272727273 0.5540410526955427\n",
      "0.7474747474747475 0.5694310819370569\n",
      "0.7676767676767677 0.584821111178616\n",
      "0.787878787878788 0.60021114042016\n",
      "0.8080808080808082 0.6156011696617253\n",
      "0.8282828282828284 0.6309911989032689\n",
      "0.8484848484848485 0.6463812281448179\n",
      "0.8686868686868687 0.6617712573863263\n",
      "0.888888888888889 0.6771612866278595\n",
      "0.9090909090909092 0.6925513158694254\n",
      "0.9292929292929294 0.7079413451109552\n",
      "0.9494949494949496 0.7233313743524818\n",
      "0.9696969696969697 0.7387214035940948\n",
      "0.98989898989899 0.7541114328355816\n",
      "1.0101010101010102 0.7695014620771613\n",
      "1.0303030303030305 0.7848914913186543\n",
      "1.0505050505050506 0.8002815205602319\n",
      "1.0707070707070707 0.8156715498017364\n",
      "1.090909090909091 0.8310615790432885\n",
      "1.1111111111111112 0.8464516082848753\n",
      "1.1313131313131315 0.8618416375262873\n",
      "1.1515151515151516 0.8772316667679033\n",
      "1.1717171717171717 0.8926216960094835\n",
      "1.191919191919192 0.9080117252509963\n",
      "1.2121212121212122 0.9234017544925235\n",
      "1.2323232323232325 0.9387917837340694\n",
      "1.2525252525252526 0.954181812975618\n",
      "1.272727272727273 0.969571842217235\n",
      "1.292929292929293 0.9849618714587219\n",
      "1.3131313131313131 1.0003519007003077\n",
      "1.3333333333333335 1.0157419299418207\n",
      "1.3535353535353536 1.031131959183362\n",
      "1.373737373737374 1.046521988424902\n",
      "1.393939393939394 1.0619120176664283\n",
      "1.4141414141414144 1.0773020469079733\n",
      "1.4343434343434345 1.0926920761494974\n",
      "1.4545454545454546 1.1080821053910854\n",
      "1.474747474747475 1.1234721346327208\n",
      "1.494949494949495 1.1388621638741139\n",
      "1.5151515151515154 1.1542521931156984\n",
      "1.5353535353535355 1.169642222357232\n",
      "1.5555555555555556 1.1850322515987142\n",
      "1.575757575757576 1.20042228084032\n",
      "1.595959595959596 1.2158123100818465\n",
      "1.6161616161616164 1.2312023393234506\n",
      "1.6363636363636365 1.2465923685649434\n",
      "1.6565656565656568 1.2619823978065379\n",
      "1.676767676767677 1.2773724270480769\n",
      "1.696969696969697 1.2927624562896358\n",
      "1.7171717171717173 1.3081524855311548\n",
      "1.7373737373737375 1.3235425147726525\n",
      "1.7575757575757578 1.338932544014227\n",
      "1.777777777777778 1.354322573255719\n",
      "1.7979797979797982 1.3697126024972566\n",
      "1.8181818181818183 1.3851026317388508\n",
      "1.8383838383838385 1.400492660980307\n",
      "1.8585858585858588 1.4158826902219104\n",
      "1.878787878787879 1.4312727194634887\n",
      "1.8989898989898992 1.4466627487049637\n",
      "1.9191919191919193 1.462052777946485\n",
      "1.9393939393939394 1.4774428071881895\n",
      "1.9595959595959598 1.492832836429644\n",
      "1.97979797979798 1.5082228656711631\n",
      "2.0 1.52361289491273\n",
      "best k: 1.3131313131313131\n",
      "closest: 0.0003519007003076613\n"
     ]
    },
    {
     "data": {
      "text/plain": "0.8986971196502441"
     },
     "execution_count": 76,
     "metadata": {},
     "output_type": "execute_result"
    }
   ],
   "source": [
    "def compute_expectation():\n",
    "    k = compute_k()\n",
    "    x = np.linspace(0, 3, N)\n",
    "    y = f(k)(x)\n",
    "    expected = np.dot(x, y)\n",
    "    expected /= N\n",
    "    return expected\n",
    "    # return 0.0\n",
    "\n",
    "compute_expectation()"
   ],
   "metadata": {
    "collapsed": false,
    "ExecuteTime": {
     "end_time": "2023-06-21T11:27:01.302510900Z",
     "start_time": "2023-06-21T11:26:48.852186800Z"
    }
   }
  }
 ],
 "metadata": {
  "hide_code_all_hidden": false,
  "kernelspec": {
   "display_name": "Python 3 (ipykernel)",
   "language": "python",
   "name": "python3"
  },
  "language_info": {
   "codemirror_mode": {
    "name": "ipython",
    "version": 3
   },
   "file_extension": ".py",
   "mimetype": "text/x-python",
   "name": "python",
   "nbconvert_exporter": "python",
   "pygments_lexer": "ipython3",
   "version": "3.11.3"
  }
 },
 "nbformat": 4,
 "nbformat_minor": 5
}

{
 "cells": [
  {
   "cell_type": "markdown",
   "metadata": {},
   "source": [
    "# Plan Enumeration Without Cartesian Products (5 Points)\n",
    "\n",
    "Copyright Immanuel Haffner, Jens Dittrich  [Big Data Analytics Group](https://bigdata.uni-saarland.de/), [CC-BY-SA](https://creativecommons.org/licenses/by-sa/4.0/legalcode)\n",
    "\n",
    "## Set-Up"
   ]
  },
  {
   "cell_type": "code",
   "execution_count": 1,
   "metadata": {
    "ExecuteTime": {
     "end_time": "2023-06-07T19:49:05.929129600Z",
     "start_time": "2023-06-07T19:49:05.881131500Z"
    }
   },
   "outputs": [],
   "source": [
    "from dataclasses import dataclass\n",
    "import graphviz as gv\n",
    "import itertools\n",
    "import math\n",
    "import random as rnd\n",
    "import typing"
   ]
  },
  {
   "cell_type": "markdown",
   "metadata": {},
   "source": [
    "## Define a Join Graph Data Structure\n",
    "\n",
    "A join graph is a collection of named relations and joins of these relations.  The join graph implements certain sanity\n",
    "checks:  (1) No two relations must have the same name.  (2) The selectivity of a join must be in the range 0 to 1\n",
    "(inclusive).  (3)  The relations that a join refers to must be present in the join graph.\n",
    "\n",
    "This class is meant to be used as a single handle to a potentially complex join graph structure."
   ]
  },
  {
   "cell_type": "code",
   "execution_count": 2,
   "metadata": {
    "ExecuteTime": {
     "end_time": "2023-06-07T19:49:06.669129300Z",
     "start_time": "2023-06-07T19:49:06.629133Z"
    }
   },
   "outputs": [],
   "source": [
    "class JoinGraph:\n",
    "    @dataclass(eq=True, frozen=True)\n",
    "    class Relation:\n",
    "        name: str\n",
    "        size: int\n",
    "\n",
    "    @dataclass(eq=True, frozen=True)\n",
    "    class Join:\n",
    "        selectivity: float\n",
    "        relation_names: typing.Tuple\n",
    "\n",
    "    def __init__(self):\n",
    "        self.named_relations = dict()\n",
    "        self.joins = set()\n",
    "\n",
    "    def add_relation(self, name, size):\n",
    "        if name in self.named_relations:\n",
    "            raise ValueError(f'Name \"{name}\" already taken')\n",
    "        self.named_relations[name] = JoinGraph.Relation(name, size)\n",
    "\n",
    "    def add_join(self, selectivity, *relation_names):\n",
    "        # Make sure, all relations are present\n",
    "        for tn in relation_names:\n",
    "            if not tn in self.named_relations:\n",
    "                raise ValueError(f'No relation with name \"{tn}\"')\n",
    "        if not (0 <= selectivity <= 1):\n",
    "            raise ValueError(f'Illegal selectivity of {selectivity}; must be in the range 0 to 1.')\n",
    "        self.joins.add(JoinGraph.Join(selectivity, relation_names))"
   ]
  },
  {
   "cell_type": "markdown",
   "metadata": {},
   "source": [
    "###  Define a function to draw the join graph with the graphviz tool."
   ]
  },
  {
   "cell_type": "code",
   "execution_count": 3,
   "metadata": {
    "ExecuteTime": {
     "end_time": "2023-06-07T19:49:08.845312Z",
     "start_time": "2023-06-07T19:49:08.774314600Z"
    }
   },
   "outputs": [],
   "source": [
    "def draw_join_graph(graph):\n",
    "    G = gv.Graph(name='join_graph', comment='The Join Graph')\n",
    "\n",
    "    # Find the minimum and maximum join selectivities in the join graph\n",
    "    sel_min = sel_max = 0\n",
    "    for J in graph.joins:\n",
    "        sel_min = min(sel_min, J.selectivity)\n",
    "        sel_max = max(sel_max, J.selectivity)\n",
    "\n",
    "    # Add the Relations as vertices.\n",
    "    for T in graph.named_relations.values():\n",
    "        G.node(T.name, f'<<B>{T.name}</B><SUB><FONT POINT-SIZE=\"10\">|·|={T.size:,}</FONT></SUB>>')\n",
    "\n",
    "    # Add the joins as edges with their selectivity as label.\n",
    "    for J in graph.joins:\n",
    "        vertices = J.relation_names\n",
    "        for i in range(1, len(vertices)):\n",
    "            x = 1 - (J.selectivity - sel_min) / (sel_max - sel_min)\n",
    "            penwidth = 3.5 * x**5 + 0.4 # compute the stroke width proportionally to the selectivity\n",
    "            G.attr('edge', penwidth=str(penwidth))\n",
    "            G.edge(vertices[i-1], vertices[i], label=f'{J.selectivity:f}')\n",
    "\n",
    "    return G"
   ]
  },
  {
   "cell_type": "markdown",
   "metadata": {},
   "source": [
    "### Defining a Cost Model\n",
    "\n",
    "First we need to define a cost function to estimate the cost of a join.  We define a cost function that estimates the\n",
    "cost of a join as the sum of the sizes of the two input relations, called `size_of_inputs`.  (This is similar the the\n",
    "cost model of the running time of a hash join, given $c_1$ and $c_2$ are 1.)"
   ]
  },
  {
   "cell_type": "code",
   "execution_count": 4,
   "metadata": {
    "ExecuteTime": {
     "end_time": "2023-06-07T19:49:10.169968200Z",
     "start_time": "2023-06-07T19:49:10.134967400Z"
    }
   },
   "outputs": [],
   "source": [
    "class CostFunctions:\n",
    "    # The cost of a join is equal to the sum of the size of all input relations.\n",
    "    def size_of_inputs(size_left, size_right, selectivity):\n",
    "        return size_left + size_right"
   ]
  },
  {
   "cell_type": "code",
   "execution_count": 6,
   "metadata": {
    "ExecuteTime": {
     "end_time": "2023-06-07T19:49:34.948047800Z",
     "start_time": "2023-06-07T19:49:34.909047600Z"
    }
   },
   "outputs": [],
   "source": [
    "def compute_cost(plan, graph, cost_fn):\n",
    "    # Start with the first relation.\n",
    "    first = plan[0]\n",
    "    joined = set([first])\n",
    "    size_left = graph.named_relations[first].size\n",
    "    cost = 0\n",
    "    # print(f'Start with relation {first} of size {size_left:,}')\n",
    "\n",
    "    # Join each relation one after the other.\n",
    "    for i in range (1, len(plan)):\n",
    "        right = plan[i]\n",
    "\n",
    "        # Combine all join predicates.  If no join predicate is applicable, the selectivity remains 1 and the join\n",
    "        # degenerates to the Cartesian product.\n",
    "        selectivity = 1\n",
    "        for J in graph.joins:\n",
    "            if right in J.relation_names and len(joined.intersection(J.relation_names)) != 0:\n",
    "                selectivity *= J.selectivity\n",
    "\n",
    "        size_right = graph.named_relations[right].size\n",
    "        # print(f'Join {joined} of size {size_left} and {right} of size {size_right} with combined selectivity {selectivity:f}.')\n",
    "        # Add the cost of this join to the total cost.\n",
    "        cost += cost_fn(size_left, size_right, selectivity)\n",
    "        # Compute the size of the new intermediate result.\n",
    "        size_left = round(selectivity * size_left * size_right)\n",
    "        #print(f'  --> Cost = {cost:,}, Size = {size_left:,}')\n",
    "        joined.add(right)\n",
    "\n",
    "    return cost"
   ]
  },
  {
   "cell_type": "markdown",
   "metadata": {},
   "source": [
    "### A more complex join graph.\n",
    "\n",
    "This is a join graph for the IMDb data set, extended with the cinemas relation where movies are shown."
   ]
  },
  {
   "cell_type": "code",
   "execution_count": 7,
   "metadata": {
    "ExecuteTime": {
     "end_time": "2023-06-07T19:49:36.329385100Z",
     "start_time": "2023-06-07T19:49:36.152179600Z"
    }
   },
   "outputs": [
    {
     "data": {
      "image/svg+xml": "<?xml version=\"1.0\" encoding=\"UTF-8\" standalone=\"no\"?>\n<!DOCTYPE svg PUBLIC \"-//W3C//DTD SVG 1.1//EN\"\n \"http://www.w3.org/Graphics/SVG/1.1/DTD/svg11.dtd\">\n<!-- Generated by graphviz version 8.0.5 (20230430.1635)\n -->\n<!-- Title: join_graph Pages: 1 -->\n<svg width=\"581pt\" height=\"571pt\"\n viewBox=\"0.00 0.00 580.51 570.50\" xmlns=\"http://www.w3.org/2000/svg\" xmlns:xlink=\"http://www.w3.org/1999/xlink\">\n<g id=\"graph0\" class=\"graph\" transform=\"scale(1 1) rotate(0) translate(4 566.5)\">\n<title>join_graph</title>\n<polygon fill=\"white\" stroke=\"none\" points=\"-4,4 -4,-566.5 576.51,-566.5 576.51,4 -4,4\"/>\n<!-- genres -->\n<g id=\"node1\" class=\"node\">\n<title>genres</title>\n<ellipse fill=\"none\" stroke=\"black\" cx=\"398.15\" cy=\"-544.5\" rx=\"62.61\" ry=\"18\"/>\n<text text-anchor=\"start\" x=\"360.27\" y=\"-540.45\" font-family=\"Times New Roman,serif\" font-weight=\"bold\" font-size=\"14.00\">genres</text>\n<text text-anchor=\"start\" x=\"400.77\" y=\"-540.45\" font-family=\"Times New Roman,serif\" baseline-shift=\"sub\" font-size=\"10.00\">|·|=17,352</text>\n</g>\n<!-- directors_genres -->\n<g id=\"node2\" class=\"node\">\n<title>directors_genres</title>\n<ellipse fill=\"none\" stroke=\"black\" cx=\"330.15\" cy=\"-456.75\" rx=\"108.16\" ry=\"18\"/>\n<text text-anchor=\"start\" x=\"258.9\" y=\"-452.7\" font-family=\"Times New Roman,serif\" font-weight=\"bold\" font-size=\"14.00\">directors_genres</text>\n<text text-anchor=\"start\" x=\"361.65\" y=\"-452.7\" font-family=\"Times New Roman,serif\" baseline-shift=\"sub\" font-size=\"10.00\">|·|=251,255</text>\n</g>\n<!-- genres&#45;&#45;directors_genres -->\n<g id=\"edge4\" class=\"edge\">\n<title>genres&#45;&#45;directors_genres</title>\n<path fill=\"none\" stroke=\"black\" stroke-width=\"1.46\" d=\"M384.71,-526.56C372.87,-511.62 355.69,-489.96 343.79,-474.95\"/>\n<text text-anchor=\"middle\" x=\"395.65\" y=\"-495.2\" font-family=\"Times New Roman,serif\" font-size=\"14.00\">0.001700</text>\n</g>\n<!-- directors -->\n<g id=\"node3\" class=\"node\">\n<title>directors</title>\n<ellipse fill=\"none\" stroke=\"black\" cx=\"330.15\" cy=\"-369\" rx=\"72.34\" ry=\"18\"/>\n<text text-anchor=\"start\" x=\"285.15\" y=\"-364.95\" font-family=\"Times New Roman,serif\" font-weight=\"bold\" font-size=\"14.00\">directors</text>\n<text text-anchor=\"start\" x=\"339.9\" y=\"-364.95\" font-family=\"Times New Roman,serif\" baseline-shift=\"sub\" font-size=\"10.00\">|·|=86,881</text>\n</g>\n<!-- directors_genres&#45;&#45;directors -->\n<g id=\"edge1\" class=\"edge\">\n<title>directors_genres&#45;&#45;directors</title>\n<path fill=\"none\" stroke=\"black\" stroke-width=\"3.86\" d=\"M330.15,-438.4C330.15,-423.52 330.15,-402.2 330.15,-387.33\"/>\n<text text-anchor=\"middle\" x=\"355.65\" y=\"-407.45\" font-family=\"Times New Roman,serif\" font-size=\"14.00\">0.000020</text>\n</g>\n<!-- movie_directors -->\n<g id=\"node4\" class=\"node\">\n<title>movie_directors</title>\n<ellipse fill=\"none\" stroke=\"black\" cx=\"329.15\" cy=\"-281.25\" rx=\"105.09\" ry=\"18\"/>\n<text text-anchor=\"start\" x=\"260.15\" y=\"-277.2\" font-family=\"Times New Roman,serif\" font-weight=\"bold\" font-size=\"14.00\">movie_directors</text>\n<text text-anchor=\"start\" x=\"358.4\" y=\"-277.2\" font-family=\"Times New Roman,serif\" baseline-shift=\"sub\" font-size=\"10.00\">|·|=371,181</text>\n</g>\n<!-- directors&#45;&#45;movie_directors -->\n<g id=\"edge7\" class=\"edge\">\n<title>directors&#45;&#45;movie_directors</title>\n<path fill=\"none\" stroke=\"black\" stroke-width=\"3.46\" d=\"M329.94,-350.65C329.77,-335.77 329.52,-314.45 329.35,-299.58\"/>\n<text text-anchor=\"middle\" x=\"354.65\" y=\"-319.7\" font-family=\"Times New Roman,serif\" font-size=\"14.00\">0.000210</text>\n</g>\n<!-- movies -->\n<g id=\"node5\" class=\"node\">\n<title>movies</title>\n<ellipse fill=\"none\" stroke=\"black\" cx=\"264.15\" cy=\"-193.5\" rx=\"66.71\" ry=\"18\"/>\n<text text-anchor=\"start\" x=\"223.27\" y=\"-189.45\" font-family=\"Times New Roman,serif\" font-weight=\"bold\" font-size=\"14.00\">movies</text>\n<text text-anchor=\"start\" x=\"265.27\" y=\"-189.45\" font-family=\"Times New Roman,serif\" baseline-shift=\"sub\" font-size=\"10.00\">|·|=388,270</text>\n</g>\n<!-- movie_directors&#45;&#45;movies -->\n<g id=\"edge9\" class=\"edge\">\n<title>movie_directors&#45;&#45;movies</title>\n<path fill=\"none\" stroke=\"black\" stroke-width=\"0.41\" d=\"M315.99,-262.9C304.64,-247.92 288.34,-226.42 277.06,-211.53\"/>\n<text text-anchor=\"middle\" x=\"327.65\" y=\"-231.95\" font-family=\"Times New Roman,serif\" font-size=\"14.00\">0.005500</text>\n</g>\n<!-- movie_genres -->\n<g id=\"node6\" class=\"node\">\n<title>movie_genres</title>\n<ellipse fill=\"none\" stroke=\"black\" cx=\"477.15\" cy=\"-105.75\" rx=\"95.37\" ry=\"18\"/>\n<text text-anchor=\"start\" x=\"415.27\" y=\"-101.7\" font-family=\"Times New Roman,serif\" font-weight=\"bold\" font-size=\"14.00\">movie_genres</text>\n<text text-anchor=\"start\" x=\"499.27\" y=\"-101.7\" font-family=\"Times New Roman,serif\" baseline-shift=\"sub\" font-size=\"10.00\">|·|=395,120</text>\n</g>\n<!-- movies&#45;&#45;movie_genres -->\n<g id=\"edge6\" class=\"edge\">\n<title>movies&#45;&#45;movie_genres</title>\n<path fill=\"none\" stroke=\"black\" stroke-width=\"3.83\" d=\"M300.28,-177.95C338.5,-162.57 398.6,-138.37 437.94,-122.53\"/>\n<text text-anchor=\"middle\" x=\"414.65\" y=\"-144.2\" font-family=\"Times New Roman,serif\" font-size=\"14.00\">0.000030</text>\n</g>\n<!-- roles -->\n<g id=\"node7\" class=\"node\">\n<title>roles</title>\n<ellipse fill=\"none\" stroke=\"black\" cx=\"64.15\" cy=\"-105.75\" rx=\"63.12\" ry=\"18\"/>\n<text text-anchor=\"start\" x=\"25.9\" y=\"-101.7\" font-family=\"Times New Roman,serif\" font-weight=\"bold\" font-size=\"14.00\">roles</text>\n<text text-anchor=\"start\" x=\"55.9\" y=\"-101.7\" font-family=\"Times New Roman,serif\" baseline-shift=\"sub\" font-size=\"10.00\">|·|=3,431,967</text>\n</g>\n<!-- movies&#45;&#45;roles -->\n<g id=\"edge10\" class=\"edge\">\n<title>movies&#45;&#45;roles</title>\n<path fill=\"none\" stroke=\"black\" stroke-width=\"3.71\" d=\"M229.77,-177.76C192.91,-161.96 134.76,-137.03 98.08,-121.3\"/>\n<text text-anchor=\"middle\" x=\"207.65\" y=\"-144.2\" font-family=\"Times New Roman,serif\" font-size=\"14.00\">0.000090</text>\n</g>\n<!-- movie_cinemas -->\n<g id=\"node9\" class=\"node\">\n<title>movie_cinemas</title>\n<ellipse fill=\"none\" stroke=\"black\" cx=\"254.15\" cy=\"-105.75\" rx=\"109.19\" ry=\"18\"/>\n<text text-anchor=\"start\" x=\"182.15\" y=\"-101.7\" font-family=\"Times New Roman,serif\" font-weight=\"bold\" font-size=\"14.00\">movie_cinemas</text>\n<text text-anchor=\"start\" x=\"275.15\" y=\"-101.7\" font-family=\"Times New Roman,serif\" baseline-shift=\"sub\" font-size=\"10.00\">|·|=14,134,503</text>\n</g>\n<!-- movies&#45;&#45;movie_cinemas -->\n<g id=\"edge3\" class=\"edge\">\n<title>movies&#45;&#45;movie_cinemas</title>\n<path fill=\"none\" stroke=\"black\" stroke-width=\"3.88\" d=\"M262.12,-175.15C260.39,-160.27 257.9,-138.95 256.17,-124.08\"/>\n<text text-anchor=\"middle\" x=\"284.65\" y=\"-144.2\" font-family=\"Times New Roman,serif\" font-size=\"14.00\">0.000010</text>\n</g>\n<!-- movie_genres&#45;&#45;genres -->\n<g id=\"edge2\" class=\"edge\">\n<title>movie_genres&#45;&#45;genres</title>\n<path fill=\"none\" stroke=\"black\" stroke-width=\"0.4\" d=\"M473.61,-124.08C470.39,-141.34 466.15,-168.64 466.15,-192.5 466.15,-457.75 466.15,-457.75 466.15,-457.75 466.15,-487.01 441.54,-512.1 421.93,-527.44\"/>\n<text text-anchor=\"middle\" x=\"491.65\" y=\"-319.7\" font-family=\"Times New Roman,serif\" font-size=\"14.00\">0.008000</text>\n</g>\n<!-- actors -->\n<g id=\"node8\" class=\"node\">\n<title>actors</title>\n<ellipse fill=\"none\" stroke=\"black\" cx=\"64.15\" cy=\"-18\" rx=\"64.15\" ry=\"18\"/>\n<text text-anchor=\"start\" x=\"25.15\" y=\"-13.95\" font-family=\"Times New Roman,serif\" font-weight=\"bold\" font-size=\"14.00\">actors</text>\n<text text-anchor=\"start\" x=\"63.4\" y=\"-13.95\" font-family=\"Times New Roman,serif\" baseline-shift=\"sub\" font-size=\"10.00\">|·|=817,719</text>\n</g>\n<!-- roles&#45;&#45;actors -->\n<g id=\"edge8\" class=\"edge\">\n<title>roles&#45;&#45;actors</title>\n<path fill=\"none\" stroke=\"black\" stroke-width=\"3.65\" d=\"M64.15,-87.4C64.15,-72.52 64.15,-51.2 64.15,-36.33\"/>\n<text text-anchor=\"middle\" x=\"89.65\" y=\"-56.45\" font-family=\"Times New Roman,serif\" font-size=\"14.00\">0.000120</text>\n</g>\n<!-- cinemas -->\n<g id=\"node10\" class=\"node\">\n<title>cinemas</title>\n<ellipse fill=\"none\" stroke=\"black\" cx=\"254.15\" cy=\"-18\" rx=\"71.82\" ry=\"18\"/>\n<text text-anchor=\"start\" x=\"209.52\" y=\"-13.95\" font-family=\"Times New Roman,serif\" font-weight=\"bold\" font-size=\"14.00\">cinemas</text>\n<text text-anchor=\"start\" x=\"259.02\" y=\"-13.95\" font-family=\"Times New Roman,serif\" baseline-shift=\"sub\" font-size=\"10.00\">|·|=182,019</text>\n</g>\n<!-- movie_cinemas&#45;&#45;cinemas -->\n<g id=\"edge5\" class=\"edge\">\n<title>movie_cinemas&#45;&#45;cinemas</title>\n<path fill=\"none\" stroke=\"black\" stroke-width=\"3.81\" d=\"M254.15,-87.4C254.15,-72.52 254.15,-51.2 254.15,-36.33\"/>\n<text text-anchor=\"middle\" x=\"279.65\" y=\"-56.45\" font-family=\"Times New Roman,serif\" font-size=\"14.00\">0.000040</text>\n</g>\n</g>\n</svg>\n",
      "text/plain": "<graphviz.graphs.Graph at 0x25fe4200c10>"
     },
     "execution_count": 7,
     "metadata": {},
     "output_type": "execute_result"
    }
   ],
   "source": [
    "imdb_graph = JoinGraph()\n",
    "\n",
    "imdb_graph.add_relation('genres', 17_352)\n",
    "imdb_graph.add_relation('directors_genres', 251_255)\n",
    "imdb_graph.add_relation('directors', 86_881)\n",
    "imdb_graph.add_relation('movie_directors', 371_181)\n",
    "imdb_graph.add_relation('movies', 388_270)\n",
    "imdb_graph.add_relation('movie_genres', 395_120)\n",
    "imdb_graph.add_relation('roles', 3_431_967)\n",
    "imdb_graph.add_relation('actors', 817_719)\n",
    "imdb_graph.add_relation('movie_cinemas', 14_134_503)\n",
    "imdb_graph.add_relation('cinemas', 182_019)\n",
    "\n",
    "imdb_graph.add_join(0.00170,  'genres', 'directors_genres')\n",
    "imdb_graph.add_join(0.00002, 'directors_genres', 'directors')\n",
    "imdb_graph.add_join(0.00021, 'directors', 'movie_directors')\n",
    "imdb_graph.add_join(0.00550, 'movie_directors', 'movies')\n",
    "imdb_graph.add_join(0.00003, 'movies', 'movie_genres')\n",
    "imdb_graph.add_join(0.00800, 'movie_genres', 'genres')\n",
    "imdb_graph.add_join(0.00009, 'movies', 'roles')\n",
    "imdb_graph.add_join(0.00012, 'roles', 'actors')\n",
    "imdb_graph.add_join(0.00001, 'movies', 'movie_cinemas')\n",
    "imdb_graph.add_join(0.00004, 'movie_cinemas', 'cinemas')\n",
    "\n",
    "draw_join_graph(imdb_graph)"
   ]
  },
  {
   "cell_type": "code",
   "execution_count": 8,
   "metadata": {
    "ExecuteTime": {
     "end_time": "2023-06-07T19:49:37.359056400Z",
     "start_time": "2023-06-07T19:49:37.304055800Z"
    }
   },
   "outputs": [],
   "source": [
    "def draw_query_plan(plan):\n",
    "    G = gv.Graph(name='query_plan', comment='The Query Plan')\n",
    "    G.graph_attr['rankdir'] = 'BT'\n",
    "\n",
    "    # Add the Relations as leaves.\n",
    "    for tbl in plan:\n",
    "        G.node(tbl, f'<<B>{tbl}</B>>')\n",
    "\n",
    "    # Add the joins as inner nodes.\n",
    "    left = plan[0]\n",
    "    for i in range(1, len(plan)):\n",
    "        right = plan[i]\n",
    "        G.node(str(i), '⋈')\n",
    "        G.edge(left, str(i))\n",
    "        G.edge(right, str(i))\n",
    "        left = str(i)\n",
    "\n",
    "    return G"
   ]
  },
  {
   "cell_type": "markdown",
   "metadata": {},
   "source": [
    "## Pruning the search space\n",
    "In the notebook [Plan Enumeration.ipynb](https://github.com/BigDataAnalyticsGroup/bigdataengineering/blob/master/Plan%20Enumeration.ipynb)\n",
    "we have already seen how we can, for a given cost function, determine the cheapest plan by enumerating all plan alternatives for a query. Now implement the `find_cheapest_plan_with_pruning()` function, which, unlike `find_cheapest_plan_exhaustive()`, ignores plans with a Cartesian product. To do this, use the join graph passed as a parameter to decide whether a join between two relations or partial results exists. Your function should only consider 'left-deep' plans"
   ]
  },
  {
   "cell_type": "code",
   "execution_count": 36,
   "metadata": {
    "ExecuteTime": {
     "end_time": "2023-06-07T20:50:54.792746800Z",
     "start_time": "2023-06-07T20:50:48.272654900Z"
    }
   },
   "outputs": [
    {
     "name": "stdout",
     "output_type": "stream",
     "text": [
      "CPU times: total: 6.08 s\n",
      "Wall time: 6.35 s\n"
     ]
    },
    {
     "data": {
      "image/svg+xml": "<?xml version=\"1.0\" encoding=\"UTF-8\" standalone=\"no\"?>\n<!DOCTYPE svg PUBLIC \"-//W3C//DTD SVG 1.1//EN\"\n \"http://www.w3.org/Graphics/SVG/1.1/DTD/svg11.dtd\">\n<!-- Generated by graphviz version 8.0.5 (20230430.1635)\n -->\n<!-- Title: query_plan Pages: 1 -->\n<svg width=\"624pt\" height=\"692pt\"\n viewBox=\"0.00 0.00 624.06 692.00\" xmlns=\"http://www.w3.org/2000/svg\" xmlns:xlink=\"http://www.w3.org/1999/xlink\">\n<g id=\"graph0\" class=\"graph\" transform=\"scale(1 1) rotate(0) translate(4 688)\">\n<title>query_plan</title>\n<polygon fill=\"white\" stroke=\"none\" points=\"-4,4 -4,-688 620.06,-688 620.06,4 -4,4\"/>\n<!-- directors_genres -->\n<g id=\"node1\" class=\"node\">\n<title>directors_genres</title>\n<ellipse fill=\"none\" stroke=\"black\" cx=\"81.04\" cy=\"-18\" rx=\"81.04\" ry=\"18\"/>\n<text text-anchor=\"start\" x=\"29.66\" y=\"-13.95\" font-family=\"Times New Roman,serif\" font-weight=\"bold\" font-size=\"14.00\">directors_genres</text>\n</g>\n<!-- 1 -->\n<g id=\"node11\" class=\"node\">\n<title>1</title>\n<ellipse fill=\"none\" stroke=\"black\" cx=\"150.04\" cy=\"-90\" rx=\"27\" ry=\"18\"/>\n<text text-anchor=\"middle\" x=\"150.04\" y=\"-83.83\" font-family=\"Times New Roman,serif\" font-size=\"14.00\">⋈</text>\n</g>\n<!-- directors_genres&#45;&#45;1 -->\n<g id=\"edge1\" class=\"edge\">\n<title>directors_genres&#45;&#45;1</title>\n<path fill=\"none\" stroke=\"black\" d=\"M97.74,-35.95C109.39,-47.76 124.76,-63.36 135.82,-74.58\"/>\n</g>\n<!-- genres -->\n<g id=\"node2\" class=\"node\">\n<title>genres</title>\n<ellipse fill=\"none\" stroke=\"black\" cx=\"219.04\" cy=\"-18\" rx=\"38.56\" ry=\"18\"/>\n<text text-anchor=\"start\" x=\"198.79\" y=\"-13.95\" font-family=\"Times New Roman,serif\" font-weight=\"bold\" font-size=\"14.00\">genres</text>\n</g>\n<!-- genres&#45;&#45;1 -->\n<g id=\"edge2\" class=\"edge\">\n<title>genres&#45;&#45;1</title>\n<path fill=\"none\" stroke=\"black\" d=\"M203.38,-34.88C191.61,-46.82 175.62,-63.05 164.22,-74.61\"/>\n</g>\n<!-- directors -->\n<g id=\"node3\" class=\"node\">\n<title>directors</title>\n<ellipse fill=\"none\" stroke=\"black\" cx=\"243.04\" cy=\"-90\" rx=\"48.28\" ry=\"18\"/>\n<text text-anchor=\"start\" x=\"215.66\" y=\"-85.95\" font-family=\"Times New Roman,serif\" font-weight=\"bold\" font-size=\"14.00\">directors</text>\n</g>\n<!-- 2 -->\n<g id=\"node12\" class=\"node\">\n<title>2</title>\n<ellipse fill=\"none\" stroke=\"black\" cx=\"196.04\" cy=\"-162\" rx=\"27\" ry=\"18\"/>\n<text text-anchor=\"middle\" x=\"196.04\" y=\"-155.82\" font-family=\"Times New Roman,serif\" font-size=\"14.00\">⋈</text>\n</g>\n<!-- directors&#45;&#45;2 -->\n<g id=\"edge4\" class=\"edge\">\n<title>directors&#45;&#45;2</title>\n<path fill=\"none\" stroke=\"black\" d=\"M231.66,-107.95C224.05,-119.27 214.11,-134.08 206.66,-145.17\"/>\n</g>\n<!-- movie_genres -->\n<g id=\"node4\" class=\"node\">\n<title>movie_genres</title>\n<ellipse fill=\"none\" stroke=\"black\" cx=\"309.04\" cy=\"-162\" rx=\"68.24\" ry=\"18\"/>\n<text text-anchor=\"start\" x=\"267.04\" y=\"-157.95\" font-family=\"Times New Roman,serif\" font-weight=\"bold\" font-size=\"14.00\">movie_genres</text>\n</g>\n<!-- 3 -->\n<g id=\"node13\" class=\"node\">\n<title>3</title>\n<ellipse fill=\"none\" stroke=\"black\" cx=\"252.04\" cy=\"-234\" rx=\"27\" ry=\"18\"/>\n<text text-anchor=\"middle\" x=\"252.04\" y=\"-227.82\" font-family=\"Times New Roman,serif\" font-size=\"14.00\">⋈</text>\n</g>\n<!-- movie_genres&#45;&#45;3 -->\n<g id=\"edge6\" class=\"edge\">\n<title>movie_genres&#45;&#45;3</title>\n<path fill=\"none\" stroke=\"black\" d=\"M295.24,-179.95C285.88,-191.44 273.61,-206.5 264.54,-217.64\"/>\n</g>\n<!-- movies -->\n<g id=\"node5\" class=\"node\">\n<title>movies</title>\n<ellipse fill=\"none\" stroke=\"black\" cx=\"337.04\" cy=\"-234\" rx=\"39.58\" ry=\"18\"/>\n<text text-anchor=\"start\" x=\"316.04\" y=\"-229.95\" font-family=\"Times New Roman,serif\" font-weight=\"bold\" font-size=\"14.00\">movies</text>\n</g>\n<!-- 4 -->\n<g id=\"node14\" class=\"node\">\n<title>4</title>\n<ellipse fill=\"none\" stroke=\"black\" cx=\"294.04\" cy=\"-306\" rx=\"27\" ry=\"18\"/>\n<text text-anchor=\"middle\" x=\"294.04\" y=\"-299.82\" font-family=\"Times New Roman,serif\" font-size=\"14.00\">⋈</text>\n</g>\n<!-- movies&#45;&#45;4 -->\n<g id=\"edge8\" class=\"edge\">\n<title>movies&#45;&#45;4</title>\n<path fill=\"none\" stroke=\"black\" d=\"M326.85,-251.59C319.89,-262.91 310.73,-277.82 303.86,-289.01\"/>\n</g>\n<!-- movie_directors -->\n<g id=\"node6\" class=\"node\">\n<title>movie_directors</title>\n<ellipse fill=\"none\" stroke=\"black\" cx=\"417.04\" cy=\"-306\" rx=\"77.97\" ry=\"18\"/>\n<text text-anchor=\"start\" x=\"367.91\" y=\"-301.95\" font-family=\"Times New Roman,serif\" font-weight=\"bold\" font-size=\"14.00\">movie_directors</text>\n</g>\n<!-- 5 -->\n<g id=\"node15\" class=\"node\">\n<title>5</title>\n<ellipse fill=\"none\" stroke=\"black\" cx=\"355.04\" cy=\"-378\" rx=\"27\" ry=\"18\"/>\n<text text-anchor=\"middle\" x=\"355.04\" y=\"-371.82\" font-family=\"Times New Roman,serif\" font-size=\"14.00\">⋈</text>\n</g>\n<!-- movie_directors&#45;&#45;5 -->\n<g id=\"edge10\" class=\"edge\">\n<title>movie_directors&#45;&#45;5</title>\n<path fill=\"none\" stroke=\"black\" d=\"M402.03,-323.95C391.71,-335.6 378.13,-350.93 368.22,-362.11\"/>\n</g>\n<!-- movie_cinemas -->\n<g id=\"node7\" class=\"node\">\n<title>movie_cinemas</title>\n<ellipse fill=\"none\" stroke=\"black\" cx=\"474.04\" cy=\"-378\" rx=\"74.38\" ry=\"18\"/>\n<text text-anchor=\"start\" x=\"427.54\" y=\"-373.95\" font-family=\"Times New Roman,serif\" font-weight=\"bold\" font-size=\"14.00\">movie_cinemas</text>\n</g>\n<!-- 6 -->\n<g id=\"node16\" class=\"node\">\n<title>6</title>\n<ellipse fill=\"none\" stroke=\"black\" cx=\"414.04\" cy=\"-450\" rx=\"27\" ry=\"18\"/>\n<text text-anchor=\"middle\" x=\"414.04\" y=\"-443.82\" font-family=\"Times New Roman,serif\" font-size=\"14.00\">⋈</text>\n</g>\n<!-- movie_cinemas&#45;&#45;6 -->\n<g id=\"edge12\" class=\"edge\">\n<title>movie_cinemas&#45;&#45;6</title>\n<path fill=\"none\" stroke=\"black\" d=\"M459.51,-395.95C449.52,-407.6 436.38,-422.93 426.8,-434.11\"/>\n</g>\n<!-- cinemas -->\n<g id=\"node8\" class=\"node\">\n<title>cinemas</title>\n<ellipse fill=\"none\" stroke=\"black\" cx=\"504.04\" cy=\"-450\" rx=\"44.7\" ry=\"18\"/>\n<text text-anchor=\"start\" x=\"479.29\" y=\"-445.95\" font-family=\"Times New Roman,serif\" font-weight=\"bold\" font-size=\"14.00\">cinemas</text>\n</g>\n<!-- 7 -->\n<g id=\"node17\" class=\"node\">\n<title>7</title>\n<ellipse fill=\"none\" stroke=\"black\" cx=\"459.04\" cy=\"-522\" rx=\"27\" ry=\"18\"/>\n<text text-anchor=\"middle\" x=\"459.04\" y=\"-515.83\" font-family=\"Times New Roman,serif\" font-size=\"14.00\">⋈</text>\n</g>\n<!-- cinemas&#45;&#45;7 -->\n<g id=\"edge14\" class=\"edge\">\n<title>cinemas&#45;&#45;7</title>\n<path fill=\"none\" stroke=\"black\" d=\"M493.14,-467.95C485.86,-479.27 476.34,-494.08 469.21,-505.17\"/>\n</g>\n<!-- roles -->\n<g id=\"node9\" class=\"node\">\n<title>roles</title>\n<ellipse fill=\"none\" stroke=\"black\" cx=\"535.04\" cy=\"-522\" rx=\"31.39\" ry=\"18\"/>\n<text text-anchor=\"start\" x=\"520.04\" y=\"-517.95\" font-family=\"Times New Roman,serif\" font-weight=\"bold\" font-size=\"14.00\">roles</text>\n</g>\n<!-- 8 -->\n<g id=\"node18\" class=\"node\">\n<title>8</title>\n<ellipse fill=\"none\" stroke=\"black\" cx=\"497.04\" cy=\"-594\" rx=\"27\" ry=\"18\"/>\n<text text-anchor=\"middle\" x=\"497.04\" y=\"-587.83\" font-family=\"Times New Roman,serif\" font-size=\"14.00\">⋈</text>\n</g>\n<!-- roles&#45;&#45;8 -->\n<g id=\"edge16\" class=\"edge\">\n<title>roles&#45;&#45;8</title>\n<path fill=\"none\" stroke=\"black\" d=\"M526.03,-539.59C519.97,-550.75 512.02,-565.4 505.98,-576.53\"/>\n</g>\n<!-- actors -->\n<g id=\"node10\" class=\"node\">\n<title>actors</title>\n<ellipse fill=\"none\" stroke=\"black\" cx=\"579.04\" cy=\"-594\" rx=\"37.02\" ry=\"18\"/>\n<text text-anchor=\"start\" x=\"559.91\" y=\"-589.95\" font-family=\"Times New Roman,serif\" font-weight=\"bold\" font-size=\"14.00\">actors</text>\n</g>\n<!-- 9 -->\n<g id=\"node19\" class=\"node\">\n<title>9</title>\n<ellipse fill=\"none\" stroke=\"black\" cx=\"538.04\" cy=\"-666\" rx=\"27\" ry=\"18\"/>\n<text text-anchor=\"middle\" x=\"538.04\" y=\"-659.83\" font-family=\"Times New Roman,serif\" font-size=\"14.00\">⋈</text>\n</g>\n<!-- actors&#45;&#45;9 -->\n<g id=\"edge18\" class=\"edge\">\n<title>actors&#45;&#45;9</title>\n<path fill=\"none\" stroke=\"black\" d=\"M569.32,-611.59C562.69,-622.91 553.95,-637.82 547.4,-649.01\"/>\n</g>\n<!-- 1&#45;&#45;2 -->\n<g id=\"edge3\" class=\"edge\">\n<title>1&#45;&#45;2</title>\n<path fill=\"none\" stroke=\"black\" d=\"M160.47,-106.88C168,-118.34 178.12,-133.74 185.64,-145.18\"/>\n</g>\n<!-- 2&#45;&#45;3 -->\n<g id=\"edge5\" class=\"edge\">\n<title>2&#45;&#45;3</title>\n<path fill=\"none\" stroke=\"black\" d=\"M208.19,-178.19C217.58,-189.93 230.52,-206.11 239.91,-217.84\"/>\n</g>\n<!-- 3&#45;&#45;4 -->\n<g id=\"edge7\" class=\"edge\">\n<title>3&#45;&#45;4</title>\n<path fill=\"none\" stroke=\"black\" d=\"M261.78,-251.24C268.56,-262.54 277.57,-277.56 284.35,-288.85\"/>\n</g>\n<!-- 4&#45;&#45;5 -->\n<g id=\"edge9\" class=\"edge\">\n<title>4&#45;&#45;5</title>\n<path fill=\"none\" stroke=\"black\" d=\"M307.27,-322.19C317.5,-333.93 331.6,-350.11 341.83,-361.84\"/>\n</g>\n<!-- 5&#45;&#45;6 -->\n<g id=\"edge11\" class=\"edge\">\n<title>5&#45;&#45;6</title>\n<path fill=\"none\" stroke=\"black\" d=\"M367.84,-394.19C377.73,-405.93 391.37,-422.11 401.26,-433.84\"/>\n</g>\n<!-- 6&#45;&#45;7 -->\n<g id=\"edge13\" class=\"edge\">\n<title>6&#45;&#45;7</title>\n<path fill=\"none\" stroke=\"black\" d=\"M424.25,-466.88C431.61,-478.34 441.51,-493.74 448.87,-505.18\"/>\n</g>\n<!-- 7&#45;&#45;8 -->\n<g id=\"edge15\" class=\"edge\">\n<title>7&#45;&#45;8</title>\n<path fill=\"none\" stroke=\"black\" d=\"M467.85,-539.24C473.99,-550.54 482.14,-565.56 488.27,-576.85\"/>\n</g>\n<!-- 8&#45;&#45;9 -->\n<g id=\"edge17\" class=\"edge\">\n<title>8&#45;&#45;9</title>\n<path fill=\"none\" stroke=\"black\" d=\"M506.55,-611.24C513.17,-622.54 521.97,-637.56 528.58,-648.85\"/>\n</g>\n</g>\n</svg>\n",
      "text/plain": "<graphviz.graphs.Graph at 0x25fe745dc70>"
     },
     "metadata": {},
     "output_type": "display_data"
    },
    {
     "name": "stdout",
     "output_type": "stream",
     "text": [
      "The cheapest plan is ['directors_genres', 'genres', 'directors', 'movie_genres', 'movies', 'movie_directors', 'movie_cinemas', 'cinemas', 'roles', 'actors'] with cost 64,856,523,035,553,260.\n"
     ]
    }
   ],
   "source": [
    "def find_cheapest_plan_exhaustive(join_graph, cost_fn):\n",
    "    # Extract the relation names\n",
    "    relations = [R.name for R in join_graph.named_relations.values()]\n",
    "\n",
    "    least_cost = math.inf\n",
    "    cheapest_plan = None\n",
    "\n",
    "    # Consider all possible permutations (of which there are $n!$).\n",
    "    for perm in itertools.permutations(relations):\n",
    "        cost = compute_cost(perm, join_graph, cost_fn)\n",
    "        if cost < least_cost:\n",
    "            least_cost = cost\n",
    "            cheapest_plan = perm\n",
    "\n",
    "    return cheapest_plan\n",
    "\n",
    "# def find_cheapest_plan_with_pruning(join_graph, cost_fn):\n",
    "def find_cheapest_plan_with_pruning(join_graph:JoinGraph, cost_fn):\n",
    "\n",
    "    def is_cartesian_product(relations):\n",
    "        # Check if the product of relation sizes equals the total size\n",
    "        # print(relations)\n",
    "        total_size = sum(relation.size for relation in relations)\n",
    "        product_sizes = 1\n",
    "        for relation in relations:\n",
    "            product_sizes *= relation.size\n",
    "        return total_size != product_sizes\n",
    "\n",
    "    # Extract the relation names\n",
    "    relations = list(join_graph.named_relations.values())\n",
    "\n",
    "    least_cost = math.inf\n",
    "    cheapest_plan = None\n",
    "\n",
    "    # Do not consider all possible permutations (of which there are $n!$)!!!\n",
    "    for perm in itertools.permutations(relations):\n",
    "\n",
    "        if is_cartesian_product(perm):\n",
    "            continue\n",
    "\n",
    "        cost = compute_cost(perm, join_graph, cost_fn)\n",
    "        if cost < least_cost:\n",
    "            least_cost = cost\n",
    "            cheapest_plan = perm\n",
    "\n",
    "    return cheapest_plan\n",
    "\n",
    "\n",
    "%time plan = find_cheapest_plan_with_pruning(imdb_graph, CostFunctions.size_of_inputs)\n",
    "# print('final plan:', plan)\n",
    "plan = ['directors_genres', 'genres', 'directors', 'movie_genres', 'movies', 'movie_directors', 'movie_cinemas', 'cinemas', 'roles', 'actors']\n",
    "display(draw_query_plan(plan))\n",
    "cost = compute_cost(plan, imdb_graph, CostFunctions.size_of_inputs)\n",
    "print(f'The cheapest plan is {plan} with cost {cost:,}.')"
   ]
  },
  {
   "cell_type": "markdown",
   "metadata": {},
   "source": [
    "Below you can find a sample solution of the resulting join plan, together with the respective costs. Keep in mind that because of the symmetry, there are multiple valid plans (but not costs!)."
   ]
  },
  {
   "cell_type": "code",
   "execution_count": 16,
   "metadata": {
    "scrolled": false,
    "ExecuteTime": {
     "end_time": "2023-06-07T19:43:29.569237Z",
     "start_time": "2023-06-07T19:43:29.497237900Z"
    }
   },
   "outputs": [
    {
     "data": {
      "image/svg+xml": "<?xml version=\"1.0\" encoding=\"UTF-8\" standalone=\"no\"?>\n<!DOCTYPE svg PUBLIC \"-//W3C//DTD SVG 1.1//EN\"\n \"http://www.w3.org/Graphics/SVG/1.1/DTD/svg11.dtd\">\n<!-- Generated by graphviz version 8.0.5 (20230430.1635)\n -->\n<!-- Title: query_plan Pages: 1 -->\n<svg width=\"624pt\" height=\"692pt\"\n viewBox=\"0.00 0.00 624.06 692.00\" xmlns=\"http://www.w3.org/2000/svg\" xmlns:xlink=\"http://www.w3.org/1999/xlink\">\n<g id=\"graph0\" class=\"graph\" transform=\"scale(1 1) rotate(0) translate(4 688)\">\n<title>query_plan</title>\n<polygon fill=\"white\" stroke=\"none\" points=\"-4,4 -4,-688 620.06,-688 620.06,4 -4,4\"/>\n<!-- directors_genres -->\n<g id=\"node1\" class=\"node\">\n<title>directors_genres</title>\n<ellipse fill=\"none\" stroke=\"black\" cx=\"81.04\" cy=\"-18\" rx=\"81.04\" ry=\"18\"/>\n<text text-anchor=\"start\" x=\"29.66\" y=\"-13.95\" font-family=\"Times New Roman,serif\" font-weight=\"bold\" font-size=\"14.00\">directors_genres</text>\n</g>\n<!-- 1 -->\n<g id=\"node11\" class=\"node\">\n<title>1</title>\n<ellipse fill=\"none\" stroke=\"black\" cx=\"150.04\" cy=\"-90\" rx=\"27\" ry=\"18\"/>\n<text text-anchor=\"middle\" x=\"150.04\" y=\"-83.83\" font-family=\"Times New Roman,serif\" font-size=\"14.00\">⋈</text>\n</g>\n<!-- directors_genres&#45;&#45;1 -->\n<g id=\"edge1\" class=\"edge\">\n<title>directors_genres&#45;&#45;1</title>\n<path fill=\"none\" stroke=\"black\" d=\"M97.74,-35.95C109.39,-47.76 124.76,-63.36 135.82,-74.58\"/>\n</g>\n<!-- genres -->\n<g id=\"node2\" class=\"node\">\n<title>genres</title>\n<ellipse fill=\"none\" stroke=\"black\" cx=\"219.04\" cy=\"-18\" rx=\"38.56\" ry=\"18\"/>\n<text text-anchor=\"start\" x=\"198.79\" y=\"-13.95\" font-family=\"Times New Roman,serif\" font-weight=\"bold\" font-size=\"14.00\">genres</text>\n</g>\n<!-- genres&#45;&#45;1 -->\n<g id=\"edge2\" class=\"edge\">\n<title>genres&#45;&#45;1</title>\n<path fill=\"none\" stroke=\"black\" d=\"M203.38,-34.88C191.61,-46.82 175.62,-63.05 164.22,-74.61\"/>\n</g>\n<!-- directors -->\n<g id=\"node3\" class=\"node\">\n<title>directors</title>\n<ellipse fill=\"none\" stroke=\"black\" cx=\"243.04\" cy=\"-90\" rx=\"48.28\" ry=\"18\"/>\n<text text-anchor=\"start\" x=\"215.66\" y=\"-85.95\" font-family=\"Times New Roman,serif\" font-weight=\"bold\" font-size=\"14.00\">directors</text>\n</g>\n<!-- 2 -->\n<g id=\"node12\" class=\"node\">\n<title>2</title>\n<ellipse fill=\"none\" stroke=\"black\" cx=\"196.04\" cy=\"-162\" rx=\"27\" ry=\"18\"/>\n<text text-anchor=\"middle\" x=\"196.04\" y=\"-155.82\" font-family=\"Times New Roman,serif\" font-size=\"14.00\">⋈</text>\n</g>\n<!-- directors&#45;&#45;2 -->\n<g id=\"edge4\" class=\"edge\">\n<title>directors&#45;&#45;2</title>\n<path fill=\"none\" stroke=\"black\" d=\"M231.66,-107.95C224.05,-119.27 214.11,-134.08 206.66,-145.17\"/>\n</g>\n<!-- movie_genres -->\n<g id=\"node4\" class=\"node\">\n<title>movie_genres</title>\n<ellipse fill=\"none\" stroke=\"black\" cx=\"309.04\" cy=\"-162\" rx=\"68.24\" ry=\"18\"/>\n<text text-anchor=\"start\" x=\"267.04\" y=\"-157.95\" font-family=\"Times New Roman,serif\" font-weight=\"bold\" font-size=\"14.00\">movie_genres</text>\n</g>\n<!-- 3 -->\n<g id=\"node13\" class=\"node\">\n<title>3</title>\n<ellipse fill=\"none\" stroke=\"black\" cx=\"252.04\" cy=\"-234\" rx=\"27\" ry=\"18\"/>\n<text text-anchor=\"middle\" x=\"252.04\" y=\"-227.82\" font-family=\"Times New Roman,serif\" font-size=\"14.00\">⋈</text>\n</g>\n<!-- movie_genres&#45;&#45;3 -->\n<g id=\"edge6\" class=\"edge\">\n<title>movie_genres&#45;&#45;3</title>\n<path fill=\"none\" stroke=\"black\" d=\"M295.24,-179.95C285.88,-191.44 273.61,-206.5 264.54,-217.64\"/>\n</g>\n<!-- movies -->\n<g id=\"node5\" class=\"node\">\n<title>movies</title>\n<ellipse fill=\"none\" stroke=\"black\" cx=\"337.04\" cy=\"-234\" rx=\"39.58\" ry=\"18\"/>\n<text text-anchor=\"start\" x=\"316.04\" y=\"-229.95\" font-family=\"Times New Roman,serif\" font-weight=\"bold\" font-size=\"14.00\">movies</text>\n</g>\n<!-- 4 -->\n<g id=\"node14\" class=\"node\">\n<title>4</title>\n<ellipse fill=\"none\" stroke=\"black\" cx=\"294.04\" cy=\"-306\" rx=\"27\" ry=\"18\"/>\n<text text-anchor=\"middle\" x=\"294.04\" y=\"-299.82\" font-family=\"Times New Roman,serif\" font-size=\"14.00\">⋈</text>\n</g>\n<!-- movies&#45;&#45;4 -->\n<g id=\"edge8\" class=\"edge\">\n<title>movies&#45;&#45;4</title>\n<path fill=\"none\" stroke=\"black\" d=\"M326.85,-251.59C319.89,-262.91 310.73,-277.82 303.86,-289.01\"/>\n</g>\n<!-- movie_directors -->\n<g id=\"node6\" class=\"node\">\n<title>movie_directors</title>\n<ellipse fill=\"none\" stroke=\"black\" cx=\"417.04\" cy=\"-306\" rx=\"77.97\" ry=\"18\"/>\n<text text-anchor=\"start\" x=\"367.91\" y=\"-301.95\" font-family=\"Times New Roman,serif\" font-weight=\"bold\" font-size=\"14.00\">movie_directors</text>\n</g>\n<!-- 5 -->\n<g id=\"node15\" class=\"node\">\n<title>5</title>\n<ellipse fill=\"none\" stroke=\"black\" cx=\"355.04\" cy=\"-378\" rx=\"27\" ry=\"18\"/>\n<text text-anchor=\"middle\" x=\"355.04\" y=\"-371.82\" font-family=\"Times New Roman,serif\" font-size=\"14.00\">⋈</text>\n</g>\n<!-- movie_directors&#45;&#45;5 -->\n<g id=\"edge10\" class=\"edge\">\n<title>movie_directors&#45;&#45;5</title>\n<path fill=\"none\" stroke=\"black\" d=\"M402.03,-323.95C391.71,-335.6 378.13,-350.93 368.22,-362.11\"/>\n</g>\n<!-- movie_cinemas -->\n<g id=\"node7\" class=\"node\">\n<title>movie_cinemas</title>\n<ellipse fill=\"none\" stroke=\"black\" cx=\"474.04\" cy=\"-378\" rx=\"74.38\" ry=\"18\"/>\n<text text-anchor=\"start\" x=\"427.54\" y=\"-373.95\" font-family=\"Times New Roman,serif\" font-weight=\"bold\" font-size=\"14.00\">movie_cinemas</text>\n</g>\n<!-- 6 -->\n<g id=\"node16\" class=\"node\">\n<title>6</title>\n<ellipse fill=\"none\" stroke=\"black\" cx=\"414.04\" cy=\"-450\" rx=\"27\" ry=\"18\"/>\n<text text-anchor=\"middle\" x=\"414.04\" y=\"-443.82\" font-family=\"Times New Roman,serif\" font-size=\"14.00\">⋈</text>\n</g>\n<!-- movie_cinemas&#45;&#45;6 -->\n<g id=\"edge12\" class=\"edge\">\n<title>movie_cinemas&#45;&#45;6</title>\n<path fill=\"none\" stroke=\"black\" d=\"M459.51,-395.95C449.52,-407.6 436.38,-422.93 426.8,-434.11\"/>\n</g>\n<!-- cinemas -->\n<g id=\"node8\" class=\"node\">\n<title>cinemas</title>\n<ellipse fill=\"none\" stroke=\"black\" cx=\"504.04\" cy=\"-450\" rx=\"44.7\" ry=\"18\"/>\n<text text-anchor=\"start\" x=\"479.29\" y=\"-445.95\" font-family=\"Times New Roman,serif\" font-weight=\"bold\" font-size=\"14.00\">cinemas</text>\n</g>\n<!-- 7 -->\n<g id=\"node17\" class=\"node\">\n<title>7</title>\n<ellipse fill=\"none\" stroke=\"black\" cx=\"459.04\" cy=\"-522\" rx=\"27\" ry=\"18\"/>\n<text text-anchor=\"middle\" x=\"459.04\" y=\"-515.83\" font-family=\"Times New Roman,serif\" font-size=\"14.00\">⋈</text>\n</g>\n<!-- cinemas&#45;&#45;7 -->\n<g id=\"edge14\" class=\"edge\">\n<title>cinemas&#45;&#45;7</title>\n<path fill=\"none\" stroke=\"black\" d=\"M493.14,-467.95C485.86,-479.27 476.34,-494.08 469.21,-505.17\"/>\n</g>\n<!-- roles -->\n<g id=\"node9\" class=\"node\">\n<title>roles</title>\n<ellipse fill=\"none\" stroke=\"black\" cx=\"535.04\" cy=\"-522\" rx=\"31.39\" ry=\"18\"/>\n<text text-anchor=\"start\" x=\"520.04\" y=\"-517.95\" font-family=\"Times New Roman,serif\" font-weight=\"bold\" font-size=\"14.00\">roles</text>\n</g>\n<!-- 8 -->\n<g id=\"node18\" class=\"node\">\n<title>8</title>\n<ellipse fill=\"none\" stroke=\"black\" cx=\"497.04\" cy=\"-594\" rx=\"27\" ry=\"18\"/>\n<text text-anchor=\"middle\" x=\"497.04\" y=\"-587.83\" font-family=\"Times New Roman,serif\" font-size=\"14.00\">⋈</text>\n</g>\n<!-- roles&#45;&#45;8 -->\n<g id=\"edge16\" class=\"edge\">\n<title>roles&#45;&#45;8</title>\n<path fill=\"none\" stroke=\"black\" d=\"M526.03,-539.59C519.97,-550.75 512.02,-565.4 505.98,-576.53\"/>\n</g>\n<!-- actors -->\n<g id=\"node10\" class=\"node\">\n<title>actors</title>\n<ellipse fill=\"none\" stroke=\"black\" cx=\"579.04\" cy=\"-594\" rx=\"37.02\" ry=\"18\"/>\n<text text-anchor=\"start\" x=\"559.91\" y=\"-589.95\" font-family=\"Times New Roman,serif\" font-weight=\"bold\" font-size=\"14.00\">actors</text>\n</g>\n<!-- 9 -->\n<g id=\"node19\" class=\"node\">\n<title>9</title>\n<ellipse fill=\"none\" stroke=\"black\" cx=\"538.04\" cy=\"-666\" rx=\"27\" ry=\"18\"/>\n<text text-anchor=\"middle\" x=\"538.04\" y=\"-659.83\" font-family=\"Times New Roman,serif\" font-size=\"14.00\">⋈</text>\n</g>\n<!-- actors&#45;&#45;9 -->\n<g id=\"edge18\" class=\"edge\">\n<title>actors&#45;&#45;9</title>\n<path fill=\"none\" stroke=\"black\" d=\"M569.32,-611.59C562.69,-622.91 553.95,-637.82 547.4,-649.01\"/>\n</g>\n<!-- 1&#45;&#45;2 -->\n<g id=\"edge3\" class=\"edge\">\n<title>1&#45;&#45;2</title>\n<path fill=\"none\" stroke=\"black\" d=\"M160.47,-106.88C168,-118.34 178.12,-133.74 185.64,-145.18\"/>\n</g>\n<!-- 2&#45;&#45;3 -->\n<g id=\"edge5\" class=\"edge\">\n<title>2&#45;&#45;3</title>\n<path fill=\"none\" stroke=\"black\" d=\"M208.19,-178.19C217.58,-189.93 230.52,-206.11 239.91,-217.84\"/>\n</g>\n<!-- 3&#45;&#45;4 -->\n<g id=\"edge7\" class=\"edge\">\n<title>3&#45;&#45;4</title>\n<path fill=\"none\" stroke=\"black\" d=\"M261.78,-251.24C268.56,-262.54 277.57,-277.56 284.35,-288.85\"/>\n</g>\n<!-- 4&#45;&#45;5 -->\n<g id=\"edge9\" class=\"edge\">\n<title>4&#45;&#45;5</title>\n<path fill=\"none\" stroke=\"black\" d=\"M307.27,-322.19C317.5,-333.93 331.6,-350.11 341.83,-361.84\"/>\n</g>\n<!-- 5&#45;&#45;6 -->\n<g id=\"edge11\" class=\"edge\">\n<title>5&#45;&#45;6</title>\n<path fill=\"none\" stroke=\"black\" d=\"M367.84,-394.19C377.73,-405.93 391.37,-422.11 401.26,-433.84\"/>\n</g>\n<!-- 6&#45;&#45;7 -->\n<g id=\"edge13\" class=\"edge\">\n<title>6&#45;&#45;7</title>\n<path fill=\"none\" stroke=\"black\" d=\"M424.25,-466.88C431.61,-478.34 441.51,-493.74 448.87,-505.18\"/>\n</g>\n<!-- 7&#45;&#45;8 -->\n<g id=\"edge15\" class=\"edge\">\n<title>7&#45;&#45;8</title>\n<path fill=\"none\" stroke=\"black\" d=\"M467.85,-539.24C473.99,-550.54 482.14,-565.56 488.27,-576.85\"/>\n</g>\n<!-- 8&#45;&#45;9 -->\n<g id=\"edge17\" class=\"edge\">\n<title>8&#45;&#45;9</title>\n<path fill=\"none\" stroke=\"black\" d=\"M506.55,-611.24C513.17,-622.54 521.97,-637.56 528.58,-648.85\"/>\n</g>\n</g>\n</svg>\n",
      "text/plain": "<graphviz.graphs.Graph at 0x2a4bedd3820>"
     },
     "metadata": {},
     "output_type": "display_data"
    },
    {
     "name": "stdout",
     "output_type": "stream",
     "text": [
      "The cheapest plan is ['directors_genres', 'genres', 'directors', 'movie_genres', 'movies', 'movie_directors', 'movie_cinemas', 'cinemas', 'roles', 'actors'] with cost 64,856,523,035,553,260.\n"
     ]
    }
   ],
   "source": [
    "plan = ['directors_genres', 'genres', 'directors', 'movie_genres', 'movies', 'movie_directors', 'movie_cinemas', 'cinemas', 'roles', 'actors']\n",
    "display(draw_query_plan(plan))\n",
    "cost = compute_cost(plan, imdb_graph, CostFunctions.size_of_inputs)\n",
    "print(f'The cheapest plan is {plan} with cost {cost:,}.')"
   ]
  },
  {
   "cell_type": "markdown",
   "metadata": {},
   "source": [
    "Use the following cell to test your implementation."
   ]
  },
  {
   "cell_type": "code",
   "execution_count": 17,
   "metadata": {
    "ExecuteTime": {
     "end_time": "2023-06-07T19:43:30.879430200Z",
     "start_time": "2023-06-07T19:43:30.509351800Z"
    }
   },
   "outputs": [
    {
     "name": "stdout",
     "output_type": "stream",
     "text": [
      "['genres', 'directors_genres', 'directors', 'movie_directors', 'movies', 'movie_genres', 'roles', 'actors', 'movie_cinemas', 'cinemas']\n",
      "CPU times: total: 0 ns\n",
      "Wall time: 0 ns\n"
     ]
    },
    {
     "ename": "TypeError",
     "evalue": "'NoneType' object is not iterable",
     "output_type": "error",
     "traceback": [
      "\u001B[1;31m---------------------------------------------------------------------------\u001B[0m",
      "\u001B[1;31mTypeError\u001B[0m                                 Traceback (most recent call last)",
      "Input \u001B[1;32mIn [17]\u001B[0m, in \u001B[0;36m<cell line: 2>\u001B[1;34m()\u001B[0m\n\u001B[0;32m      1\u001B[0m get_ipython()\u001B[38;5;241m.\u001B[39mrun_line_magic(\u001B[38;5;124m'\u001B[39m\u001B[38;5;124mtime\u001B[39m\u001B[38;5;124m'\u001B[39m, \u001B[38;5;124m'\u001B[39m\u001B[38;5;124mplan = find_cheapest_plan_with_pruning(imdb_graph, CostFunctions.size_of_inputs)\u001B[39m\u001B[38;5;124m'\u001B[39m)\n\u001B[1;32m----> 2\u001B[0m display(\u001B[43mdraw_query_plan\u001B[49m\u001B[43m(\u001B[49m\u001B[43mplan\u001B[49m\u001B[43m)\u001B[49m)\n\u001B[0;32m      3\u001B[0m cost \u001B[38;5;241m=\u001B[39m compute_cost(plan, imdb_graph, CostFunctions\u001B[38;5;241m.\u001B[39msize_of_inputs)\n\u001B[0;32m      4\u001B[0m \u001B[38;5;28mprint\u001B[39m(\u001B[38;5;124mf\u001B[39m\u001B[38;5;124m'\u001B[39m\u001B[38;5;124mThe cheapest plan is \u001B[39m\u001B[38;5;132;01m{\u001B[39;00mplan\u001B[38;5;132;01m}\u001B[39;00m\u001B[38;5;124m with cost \u001B[39m\u001B[38;5;132;01m{\u001B[39;00mcost\u001B[38;5;132;01m:\u001B[39;00m\u001B[38;5;124m,\u001B[39m\u001B[38;5;132;01m}\u001B[39;00m\u001B[38;5;124m.\u001B[39m\u001B[38;5;124m'\u001B[39m)\n",
      "Input \u001B[1;32mIn [8]\u001B[0m, in \u001B[0;36mdraw_query_plan\u001B[1;34m(plan)\u001B[0m\n\u001B[0;32m      3\u001B[0m G\u001B[38;5;241m.\u001B[39mgraph_attr[\u001B[38;5;124m'\u001B[39m\u001B[38;5;124mrankdir\u001B[39m\u001B[38;5;124m'\u001B[39m] \u001B[38;5;241m=\u001B[39m \u001B[38;5;124m'\u001B[39m\u001B[38;5;124mBT\u001B[39m\u001B[38;5;124m'\u001B[39m\n\u001B[0;32m      5\u001B[0m \u001B[38;5;66;03m# Add the Relations as leaves.\u001B[39;00m\n\u001B[1;32m----> 6\u001B[0m \u001B[38;5;28;01mfor\u001B[39;00m tbl \u001B[38;5;129;01min\u001B[39;00m plan:\n\u001B[0;32m      7\u001B[0m     G\u001B[38;5;241m.\u001B[39mnode(tbl, \u001B[38;5;124mf\u001B[39m\u001B[38;5;124m'\u001B[39m\u001B[38;5;124m<<B>\u001B[39m\u001B[38;5;132;01m{\u001B[39;00mtbl\u001B[38;5;132;01m}\u001B[39;00m\u001B[38;5;124m</B>>\u001B[39m\u001B[38;5;124m'\u001B[39m)\n\u001B[0;32m      9\u001B[0m \u001B[38;5;66;03m# Add the joins as inner nodes.\u001B[39;00m\n",
      "\u001B[1;31mTypeError\u001B[0m: 'NoneType' object is not iterable"
     ]
    }
   ],
   "source": [
    "%time plan = find_cheapest_plan_with_pruning(imdb_graph, CostFunctions.size_of_inputs)\n",
    "display(draw_query_plan(plan))\n",
    "cost = compute_cost(plan, imdb_graph, CostFunctions.size_of_inputs)\n",
    "print(f'The cheapest plan is {plan} with cost {cost:,}.')"
   ]
  },
  {
   "cell_type": "code",
   "execution_count": null,
   "outputs": [],
   "source": [],
   "metadata": {
    "collapsed": false
   }
  }
 ],
 "metadata": {
  "kernelspec": {
   "display_name": "Python 3 (ipykernel)",
   "language": "python",
   "name": "python3"
  },
  "language_info": {
   "codemirror_mode": {
    "name": "ipython",
    "version": 3
   },
   "file_extension": ".py",
   "mimetype": "text/x-python",
   "name": "python",
   "nbconvert_exporter": "python",
   "pygments_lexer": "ipython3",
   "version": "3.10.11"
  },
  "varInspector": {
   "cols": {
    "lenName": 16,
    "lenType": 16,
    "lenVar": 40
   },
   "kernels_config": {
    "python": {
     "delete_cmd_postfix": "",
     "delete_cmd_prefix": "del ",
     "library": "var_list.py",
     "varRefreshCmd": "print(var_dic_list())"
    },
    "r": {
     "delete_cmd_postfix": ") ",
     "delete_cmd_prefix": "rm(",
     "library": "var_list.r",
     "varRefreshCmd": "cat(var_dic_list()) "
    }
   },
   "types_to_exclude": [
    "module",
    "function",
    "builtin_function_or_method",
    "instance",
    "_Feature"
   ],
   "window_display": false
  }
 },
 "nbformat": 4,
 "nbformat_minor": 2
}
